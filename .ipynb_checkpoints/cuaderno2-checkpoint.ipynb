{
 "cells": [
  {
   "cell_type": "code",
   "execution_count": 3,
   "id": "037d2b76-ff03-4e03-95d0-f3a7ebee4f9b",
   "metadata": {
    "collapsed": true,
    "jupyter": {
     "outputs_hidden": true
    }
   },
   "outputs": [
    {
     "name": "stdout",
     "output_type": "stream",
     "text": [
      "Requirement already satisfied: pygwalker in c:\\users\\lenovo\\appdata\\local\\programs\\python\\python312\\lib\\site-packages (0.4.9.15)\n",
      "Requirement already satisfied: anywidget in c:\\users\\lenovo\\appdata\\local\\programs\\python\\python312\\lib\\site-packages (from pygwalker) (0.9.18)\n",
      "Requirement already satisfied: appdirs in c:\\users\\lenovo\\appdata\\local\\programs\\python\\python312\\lib\\site-packages (from pygwalker) (1.4.4)\n",
      "Requirement already satisfied: arrow in c:\\users\\lenovo\\appdata\\local\\programs\\python\\python312\\lib\\site-packages (from pygwalker) (1.3.0)\n",
      "Requirement already satisfied: astor in c:\\users\\lenovo\\appdata\\local\\programs\\python\\python312\\lib\\site-packages (from pygwalker) (0.8.1)\n",
      "Requirement already satisfied: cachetools in c:\\users\\lenovo\\appdata\\local\\programs\\python\\python312\\lib\\site-packages (from pygwalker) (5.5.2)\n",
      "Requirement already satisfied: duckdb<2.0.0,>=0.10.1 in c:\\users\\lenovo\\appdata\\local\\programs\\python\\python312\\lib\\site-packages (from pygwalker) (1.2.2)\n",
      "Requirement already satisfied: gw-dsl-parser==0.1.49.1 in c:\\users\\lenovo\\appdata\\local\\programs\\python\\python312\\lib\\site-packages (from pygwalker) (0.1.49.1)\n",
      "Requirement already satisfied: ipylab<=1.0.0 in c:\\users\\lenovo\\appdata\\local\\programs\\python\\python312\\lib\\site-packages (from pygwalker) (1.0.0)\n",
      "Requirement already satisfied: ipython in c:\\users\\lenovo\\appdata\\local\\programs\\python\\python312\\lib\\site-packages (from pygwalker) (9.2.0)\n",
      "Requirement already satisfied: ipywidgets in c:\\users\\lenovo\\appdata\\local\\programs\\python\\python312\\lib\\site-packages (from pygwalker) (8.1.6)\n",
      "Requirement already satisfied: jinja2 in c:\\users\\lenovo\\appdata\\local\\programs\\python\\python312\\lib\\site-packages (from pygwalker) (3.1.6)\n",
      "Requirement already satisfied: kanaries-track==0.0.5 in c:\\users\\lenovo\\appdata\\local\\programs\\python\\python312\\lib\\site-packages (from pygwalker) (0.0.5)\n",
      "Requirement already satisfied: numpy in c:\\users\\lenovo\\appdata\\local\\programs\\python\\python312\\lib\\site-packages (from pygwalker) (2.2.5)\n",
      "Requirement already satisfied: packaging in c:\\users\\lenovo\\appdata\\local\\programs\\python\\python312\\lib\\site-packages (from pygwalker) (25.0)\n",
      "Requirement already satisfied: pandas in c:\\users\\lenovo\\appdata\\local\\programs\\python\\python312\\lib\\site-packages (from pygwalker) (2.2.3)\n",
      "Requirement already satisfied: psutil in c:\\users\\lenovo\\appdata\\local\\programs\\python\\python312\\lib\\site-packages (from pygwalker) (7.0.0)\n",
      "Requirement already satisfied: pyarrow in c:\\users\\lenovo\\appdata\\local\\programs\\python\\python312\\lib\\site-packages (from pygwalker) (20.0.0)\n",
      "Requirement already satisfied: pydantic in c:\\users\\lenovo\\appdata\\local\\programs\\python\\python312\\lib\\site-packages (from pygwalker) (2.11.3)\n",
      "Requirement already satisfied: pytz in c:\\users\\lenovo\\appdata\\local\\programs\\python\\python312\\lib\\site-packages (from pygwalker) (2025.2)\n",
      "Requirement already satisfied: quickjs in c:\\users\\lenovo\\appdata\\local\\programs\\python\\python312\\lib\\site-packages (from pygwalker) (1.19.4)\n",
      "Requirement already satisfied: requests in c:\\users\\lenovo\\appdata\\local\\programs\\python\\python312\\lib\\site-packages (from pygwalker) (2.32.3)\n",
      "Requirement already satisfied: segment-analytics-python==2.2.3 in c:\\users\\lenovo\\appdata\\local\\programs\\python\\python312\\lib\\site-packages (from pygwalker) (2.2.3)\n",
      "Requirement already satisfied: sqlalchemy in c:\\users\\lenovo\\appdata\\local\\programs\\python\\python312\\lib\\site-packages (from pygwalker) (2.0.40)\n",
      "Requirement already satisfied: sqlglot>=23.15.8 in c:\\users\\lenovo\\appdata\\local\\programs\\python\\python312\\lib\\site-packages (from pygwalker) (26.16.2)\n",
      "Requirement already satisfied: traitlets in c:\\users\\lenovo\\appdata\\local\\programs\\python\\python312\\lib\\site-packages (from pygwalker) (5.14.3)\n",
      "Requirement already satisfied: typing-extensions in c:\\users\\lenovo\\appdata\\local\\programs\\python\\python312\\lib\\site-packages (from pygwalker) (4.13.2)\n",
      "Requirement already satisfied: wasmtime>=12.0.0 in c:\\users\\lenovo\\appdata\\local\\programs\\python\\python312\\lib\\site-packages (from gw-dsl-parser==0.1.49.1->pygwalker) (32.0.0)\n",
      "Requirement already satisfied: backoff>=2.2.1 in c:\\users\\lenovo\\appdata\\local\\programs\\python\\python312\\lib\\site-packages (from kanaries-track==0.0.5->pygwalker) (2.2.1)\n",
      "Requirement already satisfied: dateutils>=0.6.12 in c:\\users\\lenovo\\appdata\\local\\programs\\python\\python312\\lib\\site-packages (from kanaries-track==0.0.5->pygwalker) (0.6.12)\n",
      "Requirement already satisfied: monotonic~=1.5 in c:\\users\\lenovo\\appdata\\local\\programs\\python\\python312\\lib\\site-packages (from segment-analytics-python==2.2.3->pygwalker) (1.6)\n",
      "Requirement already satisfied: python-dateutil~=2.2 in c:\\users\\lenovo\\appdata\\local\\programs\\python\\python312\\lib\\site-packages (from segment-analytics-python==2.2.3->pygwalker) (2.9.0.post0)\n",
      "Requirement already satisfied: comm>=0.1.3 in c:\\users\\lenovo\\appdata\\local\\programs\\python\\python312\\lib\\site-packages (from ipywidgets->pygwalker) (0.2.2)\n",
      "Requirement already satisfied: widgetsnbextension~=4.0.14 in c:\\users\\lenovo\\appdata\\local\\programs\\python\\python312\\lib\\site-packages (from ipywidgets->pygwalker) (4.0.14)\n",
      "Requirement already satisfied: jupyterlab_widgets~=3.0.14 in c:\\users\\lenovo\\appdata\\local\\programs\\python\\python312\\lib\\site-packages (from ipywidgets->pygwalker) (3.0.14)\n",
      "Requirement already satisfied: six>=1.5 in c:\\users\\lenovo\\appdata\\local\\programs\\python\\python312\\lib\\site-packages (from python-dateutil~=2.2->segment-analytics-python==2.2.3->pygwalker) (1.17.0)\n",
      "Requirement already satisfied: charset-normalizer<4,>=2 in c:\\users\\lenovo\\appdata\\local\\programs\\python\\python312\\lib\\site-packages (from requests->pygwalker) (3.4.1)\n",
      "Requirement already satisfied: idna<4,>=2.5 in c:\\users\\lenovo\\appdata\\local\\programs\\python\\python312\\lib\\site-packages (from requests->pygwalker) (3.10)\n",
      "Requirement already satisfied: urllib3<3,>=1.21.1 in c:\\users\\lenovo\\appdata\\local\\programs\\python\\python312\\lib\\site-packages (from requests->pygwalker) (2.4.0)\n",
      "Requirement already satisfied: certifi>=2017.4.17 in c:\\users\\lenovo\\appdata\\local\\programs\\python\\python312\\lib\\site-packages (from requests->pygwalker) (2025.4.26)\n",
      "Requirement already satisfied: colorama in c:\\users\\lenovo\\appdata\\local\\programs\\python\\python312\\lib\\site-packages (from ipython->pygwalker) (0.4.6)\n",
      "Requirement already satisfied: decorator in c:\\users\\lenovo\\appdata\\local\\programs\\python\\python312\\lib\\site-packages (from ipython->pygwalker) (5.2.1)\n",
      "Requirement already satisfied: ipython-pygments-lexers in c:\\users\\lenovo\\appdata\\local\\programs\\python\\python312\\lib\\site-packages (from ipython->pygwalker) (1.1.1)\n",
      "Requirement already satisfied: jedi>=0.16 in c:\\users\\lenovo\\appdata\\local\\programs\\python\\python312\\lib\\site-packages (from ipython->pygwalker) (0.19.2)\n",
      "Requirement already satisfied: matplotlib-inline in c:\\users\\lenovo\\appdata\\local\\programs\\python\\python312\\lib\\site-packages (from ipython->pygwalker) (0.1.7)\n",
      "Requirement already satisfied: prompt_toolkit<3.1.0,>=3.0.41 in c:\\users\\lenovo\\appdata\\local\\programs\\python\\python312\\lib\\site-packages (from ipython->pygwalker) (3.0.51)\n",
      "Requirement already satisfied: pygments>=2.4.0 in c:\\users\\lenovo\\appdata\\local\\programs\\python\\python312\\lib\\site-packages (from ipython->pygwalker) (2.19.1)\n",
      "Requirement already satisfied: stack_data in c:\\users\\lenovo\\appdata\\local\\programs\\python\\python312\\lib\\site-packages (from ipython->pygwalker) (0.6.3)\n",
      "Requirement already satisfied: wcwidth in c:\\users\\lenovo\\appdata\\local\\programs\\python\\python312\\lib\\site-packages (from prompt_toolkit<3.1.0,>=3.0.41->ipython->pygwalker) (0.2.13)\n",
      "Requirement already satisfied: parso<0.9.0,>=0.8.4 in c:\\users\\lenovo\\appdata\\local\\programs\\python\\python312\\lib\\site-packages (from jedi>=0.16->ipython->pygwalker) (0.8.4)\n",
      "Requirement already satisfied: importlib_resources>=5.10 in c:\\users\\lenovo\\appdata\\local\\programs\\python\\python312\\lib\\site-packages (from wasmtime>=12.0.0->gw-dsl-parser==0.1.49.1->pygwalker) (6.5.2)\n",
      "Requirement already satisfied: psygnal>=0.8.1 in c:\\users\\lenovo\\appdata\\local\\programs\\python\\python312\\lib\\site-packages (from anywidget->pygwalker) (0.12.0)\n",
      "Requirement already satisfied: types-python-dateutil>=2.8.10 in c:\\users\\lenovo\\appdata\\local\\programs\\python\\python312\\lib\\site-packages (from arrow->pygwalker) (2.9.0.20241206)\n",
      "Requirement already satisfied: MarkupSafe>=2.0 in c:\\users\\lenovo\\appdata\\local\\programs\\python\\python312\\lib\\site-packages (from jinja2->pygwalker) (3.0.2)\n",
      "Requirement already satisfied: tzdata>=2022.7 in c:\\users\\lenovo\\appdata\\local\\programs\\python\\python312\\lib\\site-packages (from pandas->pygwalker) (2025.2)\n",
      "Requirement already satisfied: annotated-types>=0.6.0 in c:\\users\\lenovo\\appdata\\local\\programs\\python\\python312\\lib\\site-packages (from pydantic->pygwalker) (0.7.0)\n",
      "Requirement already satisfied: pydantic-core==2.33.1 in c:\\users\\lenovo\\appdata\\local\\programs\\python\\python312\\lib\\site-packages (from pydantic->pygwalker) (2.33.1)\n",
      "Requirement already satisfied: typing-inspection>=0.4.0 in c:\\users\\lenovo\\appdata\\local\\programs\\python\\python312\\lib\\site-packages (from pydantic->pygwalker) (0.4.0)\n",
      "Requirement already satisfied: greenlet>=1 in c:\\users\\lenovo\\appdata\\local\\programs\\python\\python312\\lib\\site-packages (from sqlalchemy->pygwalker) (3.2.1)\n",
      "Requirement already satisfied: executing>=1.2.0 in c:\\users\\lenovo\\appdata\\local\\programs\\python\\python312\\lib\\site-packages (from stack_data->ipython->pygwalker) (2.2.0)\n",
      "Requirement already satisfied: asttokens>=2.1.0 in c:\\users\\lenovo\\appdata\\local\\programs\\python\\python312\\lib\\site-packages (from stack_data->ipython->pygwalker) (3.0.0)\n",
      "Requirement already satisfied: pure-eval in c:\\users\\lenovo\\appdata\\local\\programs\\python\\python312\\lib\\site-packages (from stack_data->ipython->pygwalker) (0.2.3)\n"
     ]
    }
   ],
   "source": [
    "!pip install pygwalker"
   ]
  },
  {
   "cell_type": "code",
   "execution_count": 6,
   "id": "5fffd197-0cb5-46c0-84e0-7c982d8d541a",
   "metadata": {},
   "outputs": [],
   "source": [
    "import pandas as pd\n",
    "import pygwalker as pyg"
   ]
  },
  {
   "cell_type": "code",
   "execution_count": 7,
   "id": "4a775511-655e-4ad8-9679-4752fd7d16ff",
   "metadata": {},
   "outputs": [],
   "source": [
    "df = pd.read_csv('conjunto_datos.csv')"
   ]
  },
  {
   "cell_type": "code",
   "execution_count": 10,
   "id": "ba2c1899-4540-4b84-9999-0550a958b15d",
   "metadata": {},
   "outputs": [
    {
     "data": {
      "application/vnd.jupyter.widget-view+json": {
       "model_id": "895e4fdb23b647edb126679c1ed263cc",
       "version_major": 2,
       "version_minor": 0
      },
      "text/plain": [
       "Box(children=(HTML(value='\\n<div id=\"ifr-pyg-000633e1cc7e8258Mel3oW2wpYFhq8ci\" style=\"height: auto\">\\n    <hea…"
      ]
     },
     "metadata": {},
     "output_type": "display_data"
    },
    {
     "data": {
      "text/html": [
       "<script>\n",
       "    window.addEventListener(\"message\", function(event) {\n",
       "        const backgroundMap = {\n",
       "            \"dark\": \"hsl(240 10% 3.9%)\",\n",
       "            \"light\": \"hsl(0 0 100%)\",\n",
       "        };\n",
       "        const colorMap = {\n",
       "            \"dark\": \"hsl(0 0% 98%)\",\n",
       "            \"light\": \"hsl(240 10% 3.9%)\",\n",
       "        };\n",
       "        if (event.data.action === \"changeAppearance\" && event.data.gid === \"000633e1cc7e8258Mel3oW2wpYFhq8ci\") {\n",
       "            var iframe = document.getElementById(\"gwalker-000633e1cc7e8258Mel3oW2wpYFhq8ci\");\n",
       "            iframe.style.background  = backgroundMap[event.data.appearance];\n",
       "            iframe.style.color = colorMap[event.data.appearance];\n",
       "        }\n",
       "    });\n",
       "</script>"
      ],
      "text/plain": [
       "<IPython.core.display.HTML object>"
      ]
     },
     "metadata": {},
     "output_type": "display_data"
    },
    {
     "data": {
      "text/html": [],
      "text/plain": [
       "<IPython.core.display.HTML object>"
      ]
     },
     "metadata": {},
     "output_type": "display_data"
    },
    {
     "data": {
      "text/plain": [
       "<pygwalker.api.pygwalker.PygWalker at 0x1d9497221e0>"
      ]
     },
     "execution_count": 10,
     "metadata": {},
     "output_type": "execute_result"
    }
   ],
   "source": [
    "pyg.walk(df)"
   ]
  },
  {
   "cell_type": "code",
   "execution_count": 9,
   "id": "dde23d54-2097-45f5-82e5-29d333fb73bf",
   "metadata": {},
   "outputs": [
    {
     "ename": "TypeError",
     "evalue": "Unsupported data type: <class 'list'>",
     "output_type": "error",
     "traceback": [
      "\u001b[31m---------------------------------------------------------------------------\u001b[39m",
      "\u001b[31mTypeError\u001b[39m                                 Traceback (most recent call last)",
      "\u001b[36mCell\u001b[39m\u001b[36m \u001b[39m\u001b[32mIn[9]\u001b[39m\u001b[32m, line 1\u001b[39m\n\u001b[32m----> \u001b[39m\u001b[32m1\u001b[39m \u001b[43mpyg\u001b[49m\u001b[43m.\u001b[49m\u001b[43mwalk\u001b[49m\u001b[43m(\u001b[49m\u001b[43mdata\u001b[49m\u001b[43m)\u001b[49m\n",
      "\u001b[36mFile \u001b[39m\u001b[32m~\\AppData\\Local\\Programs\\Python\\Python312\\Lib\\site-packages\\pygwalker\\api\\adapter.py:51\u001b[39m, in \u001b[36mwalk\u001b[39m\u001b[34m(dataset, gid, env, field_specs, theme_key, appearance, spec, use_kernel_calc, kernel_computation, cloud_computation, show_cloud_tool, kanaries_api_key, default_tab, **kwargs)\u001b[39m\n\u001b[32m     49\u001b[39m cur_env = get_current_env()\n\u001b[32m     50\u001b[39m \u001b[38;5;28;01mif\u001b[39;00m cur_env == \u001b[33m\"\u001b[39m\u001b[33mjupyter\u001b[39m\u001b[33m\"\u001b[39m:\n\u001b[32m---> \u001b[39m\u001b[32m51\u001b[39m     \u001b[38;5;28;01mreturn\u001b[39;00m \u001b[43mjupyter\u001b[49m\u001b[43m.\u001b[49m\u001b[43mwalk\u001b[49m\u001b[43m(\u001b[49m\n\u001b[32m     52\u001b[39m \u001b[43m        \u001b[49m\u001b[43mdataset\u001b[49m\u001b[43m,\u001b[49m\n\u001b[32m     53\u001b[39m \u001b[43m        \u001b[49m\u001b[43mgid\u001b[49m\u001b[43m,\u001b[49m\n\u001b[32m     54\u001b[39m \u001b[43m        \u001b[49m\u001b[43menv\u001b[49m\u001b[43m=\u001b[49m\u001b[43menv\u001b[49m\u001b[43m,\u001b[49m\n\u001b[32m     55\u001b[39m \u001b[43m        \u001b[49m\u001b[43mfield_specs\u001b[49m\u001b[43m=\u001b[49m\u001b[43mfield_specs\u001b[49m\u001b[43m,\u001b[49m\n\u001b[32m     56\u001b[39m \u001b[43m        \u001b[49m\u001b[43mtheme_key\u001b[49m\u001b[43m=\u001b[49m\u001b[43mtheme_key\u001b[49m\u001b[43m,\u001b[49m\n\u001b[32m     57\u001b[39m \u001b[43m        \u001b[49m\u001b[43mappearance\u001b[49m\u001b[43m=\u001b[49m\u001b[43mappearance\u001b[49m\u001b[43m,\u001b[49m\n\u001b[32m     58\u001b[39m \u001b[43m        \u001b[49m\u001b[43mspec\u001b[49m\u001b[43m=\u001b[49m\u001b[43mspec\u001b[49m\u001b[43m,\u001b[49m\n\u001b[32m     59\u001b[39m \u001b[43m        \u001b[49m\u001b[43muse_kernel_calc\u001b[49m\u001b[43m=\u001b[49m\u001b[43muse_kernel_calc\u001b[49m\u001b[43m,\u001b[49m\n\u001b[32m     60\u001b[39m \u001b[43m        \u001b[49m\u001b[43mkernel_computation\u001b[49m\u001b[43m=\u001b[49m\u001b[43mkernel_computation\u001b[49m\u001b[43m,\u001b[49m\n\u001b[32m     61\u001b[39m \u001b[43m        \u001b[49m\u001b[43mcloud_computation\u001b[49m\u001b[43m=\u001b[49m\u001b[43mcloud_computation\u001b[49m\u001b[43m,\u001b[49m\n\u001b[32m     62\u001b[39m \u001b[43m        \u001b[49m\u001b[43mshow_cloud_tool\u001b[49m\u001b[43m=\u001b[49m\u001b[43mshow_cloud_tool\u001b[49m\u001b[43m,\u001b[49m\n\u001b[32m     63\u001b[39m \u001b[43m        \u001b[49m\u001b[43mkanaries_api_key\u001b[49m\u001b[43m=\u001b[49m\u001b[43mkanaries_api_key\u001b[49m\u001b[43m,\u001b[49m\n\u001b[32m     64\u001b[39m \u001b[43m        \u001b[49m\u001b[43mdefault_tab\u001b[49m\u001b[43m=\u001b[49m\u001b[43mdefault_tab\u001b[49m\u001b[43m,\u001b[49m\n\u001b[32m     65\u001b[39m \u001b[43m        \u001b[49m\u001b[43m*\u001b[49m\u001b[43m*\u001b[49m\u001b[43mkwargs\u001b[49m\n\u001b[32m     66\u001b[39m \u001b[43m    \u001b[49m\u001b[43m)\u001b[49m\n\u001b[32m     68\u001b[39m \u001b[38;5;28;01mreturn\u001b[39;00m webserver.walk(\n\u001b[32m     69\u001b[39m     dataset,\n\u001b[32m     70\u001b[39m     gid,\n\u001b[32m   (...)\u001b[39m\u001b[32m     82\u001b[39m     **kwargs\n\u001b[32m     83\u001b[39m )\n",
      "\u001b[36mFile \u001b[39m\u001b[32m~\\AppData\\Local\\Programs\\Python\\Python312\\Lib\\site-packages\\pygwalker\\api\\jupyter.py:69\u001b[39m, in \u001b[36mwalk\u001b[39m\u001b[34m(dataset, gid, env, field_specs, theme_key, appearance, spec, use_kernel_calc, kernel_computation, cloud_computation, show_cloud_tool, kanaries_api_key, default_tab, **kwargs)\u001b[39m\n\u001b[32m     66\u001b[39m \u001b[38;5;28;01melif\u001b[39;00m check_convert():\n\u001b[32m     67\u001b[39m     env = \u001b[33m\"\u001b[39m\u001b[33mJupyterConvert\u001b[39m\u001b[33m\"\u001b[39m\n\u001b[32m---> \u001b[39m\u001b[32m69\u001b[39m walker = \u001b[43mPygWalker\u001b[49m\u001b[43m(\u001b[49m\n\u001b[32m     70\u001b[39m \u001b[43m    \u001b[49m\u001b[43mgid\u001b[49m\u001b[43m=\u001b[49m\u001b[43mgid\u001b[49m\u001b[43m,\u001b[49m\n\u001b[32m     71\u001b[39m \u001b[43m    \u001b[49m\u001b[43mdataset\u001b[49m\u001b[43m=\u001b[49m\u001b[43mdataset\u001b[49m\u001b[43m,\u001b[49m\n\u001b[32m     72\u001b[39m \u001b[43m    \u001b[49m\u001b[43mfield_specs\u001b[49m\u001b[43m=\u001b[49m\u001b[43mfield_specs\u001b[49m\u001b[43m,\u001b[49m\n\u001b[32m     73\u001b[39m \u001b[43m    \u001b[49m\u001b[43mspec\u001b[49m\u001b[43m=\u001b[49m\u001b[43mspec\u001b[49m\u001b[43m,\u001b[49m\n\u001b[32m     74\u001b[39m \u001b[43m    \u001b[49m\u001b[43msource_invoke_code\u001b[49m\u001b[43m=\u001b[49m\u001b[43msource_invoke_code\u001b[49m\u001b[43m,\u001b[49m\n\u001b[32m     75\u001b[39m \u001b[43m    \u001b[49m\u001b[43mtheme_key\u001b[49m\u001b[43m=\u001b[49m\u001b[43mtheme_key\u001b[49m\u001b[43m,\u001b[49m\n\u001b[32m     76\u001b[39m \u001b[43m    \u001b[49m\u001b[43mappearance\u001b[49m\u001b[43m=\u001b[49m\u001b[43mappearance\u001b[49m\u001b[43m,\u001b[49m\n\u001b[32m     77\u001b[39m \u001b[43m    \u001b[49m\u001b[43mshow_cloud_tool\u001b[49m\u001b[43m=\u001b[49m\u001b[43mshow_cloud_tool\u001b[49m\u001b[43m,\u001b[49m\n\u001b[32m     78\u001b[39m \u001b[43m    \u001b[49m\u001b[43muse_preview\u001b[49m\u001b[43m=\u001b[49m\u001b[38;5;28;43;01mTrue\u001b[39;49;00m\u001b[43m,\u001b[49m\n\u001b[32m     79\u001b[39m \u001b[43m    \u001b[49m\u001b[43mkernel_computation\u001b[49m\u001b[43m=\u001b[49m\u001b[43menv\u001b[49m\u001b[43m \u001b[49m\u001b[43m!=\u001b[49m\u001b[43m \u001b[49m\u001b[33;43m\"\u001b[39;49m\u001b[33;43mJupyterConvert\u001b[39;49m\u001b[33;43m\"\u001b[39;49m\u001b[43m \u001b[49m\u001b[38;5;129;43;01mand\u001b[39;49;00m\u001b[43m \u001b[49m\u001b[43m(\u001b[49m\u001b[38;5;28;43misinstance\u001b[39;49m\u001b[43m(\u001b[49m\u001b[43mdataset\u001b[49m\u001b[43m,\u001b[49m\u001b[43m \u001b[49m\u001b[43m(\u001b[49m\u001b[43mConnector\u001b[49m\u001b[43m,\u001b[49m\u001b[43m \u001b[49m\u001b[38;5;28;43mstr\u001b[39;49m\u001b[43m)\u001b[49m\u001b[43m)\u001b[49m\u001b[43m \u001b[49m\u001b[38;5;129;43;01mor\u001b[39;49;00m\u001b[43m \u001b[49m\u001b[43mfallback_value\u001b[49m\u001b[43m(\u001b[49m\u001b[43mkernel_computation\u001b[49m\u001b[43m,\u001b[49m\u001b[43m \u001b[49m\u001b[43muse_kernel_calc\u001b[49m\u001b[43m)\u001b[49m\u001b[43m)\u001b[49m\u001b[43m,\u001b[49m\n\u001b[32m     80\u001b[39m \u001b[43m    \u001b[49m\u001b[43muse_save_tool\u001b[49m\u001b[43m=\u001b[49m\u001b[38;5;28;43;01mTrue\u001b[39;49;00m\u001b[43m,\u001b[49m\n\u001b[32m     81\u001b[39m \u001b[43m    \u001b[49m\u001b[43mgw_mode\u001b[49m\u001b[43m=\u001b[49m\u001b[33;43m\"\u001b[39;49m\u001b[33;43mexplore\u001b[39;49m\u001b[33;43m\"\u001b[39;49m\u001b[43m,\u001b[49m\n\u001b[32m     82\u001b[39m \u001b[43m    \u001b[49m\u001b[43mis_export_dataframe\u001b[49m\u001b[43m=\u001b[49m\u001b[38;5;28;43;01mTrue\u001b[39;49;00m\u001b[43m,\u001b[49m\n\u001b[32m     83\u001b[39m \u001b[43m    \u001b[49m\u001b[43mkanaries_api_key\u001b[49m\u001b[43m=\u001b[49m\u001b[43mkanaries_api_key\u001b[49m\u001b[43m,\u001b[49m\n\u001b[32m     84\u001b[39m \u001b[43m    \u001b[49m\u001b[43mdefault_tab\u001b[49m\u001b[43m=\u001b[49m\u001b[43mdefault_tab\u001b[49m\u001b[43m,\u001b[49m\n\u001b[32m     85\u001b[39m \u001b[43m    \u001b[49m\u001b[43mcloud_computation\u001b[49m\u001b[43m=\u001b[49m\u001b[43mcloud_computation\u001b[49m\u001b[43m,\u001b[49m\n\u001b[32m     86\u001b[39m \u001b[43m    \u001b[49m\u001b[43m*\u001b[49m\u001b[43m*\u001b[49m\u001b[43mkwargs\u001b[49m\n\u001b[32m     87\u001b[39m \u001b[43m\u001b[49m\u001b[43m)\u001b[49m\n\u001b[32m     89\u001b[39m env_display_map = {\n\u001b[32m     90\u001b[39m     \u001b[33m\"\u001b[39m\u001b[33mJupyterWidget\u001b[39m\u001b[33m\"\u001b[39m: walker.display_on_jupyter_use_widgets,\n\u001b[32m     91\u001b[39m     \u001b[33m\"\u001b[39m\u001b[33mJupyter\u001b[39m\u001b[33m\"\u001b[39m: walker.display_on_jupyter,\n\u001b[32m     92\u001b[39m     \u001b[33m\"\u001b[39m\u001b[33mJupyterConvert\u001b[39m\u001b[33m\"\u001b[39m: walker.display_on_convert_html,\n\u001b[32m     93\u001b[39m     \u001b[33m\"\u001b[39m\u001b[33mJupyterPreview\u001b[39m\u001b[33m\"\u001b[39m: walker.display_preview_on_jupyter\n\u001b[32m     94\u001b[39m }\n\u001b[32m     96\u001b[39m display_func = env_display_map.get(env, \u001b[38;5;28;01mlambda\u001b[39;00m: \u001b[38;5;28;01mNone\u001b[39;00m)\n",
      "\u001b[36mFile \u001b[39m\u001b[32m~\\AppData\\Local\\Programs\\Python\\Python312\\Lib\\site-packages\\pygwalker\\api\\pygwalker.py:74\u001b[39m, in \u001b[36mPygWalker.__init__\u001b[39m\u001b[34m(self, gid, dataset, field_specs, spec, source_invoke_code, theme_key, appearance, show_cloud_tool, use_preview, kernel_computation, cloud_computation, use_save_tool, is_export_dataframe, kanaries_api_key, default_tab, gw_mode, **kwargs)\u001b[39m\n\u001b[32m     72\u001b[39m     \u001b[38;5;28mself\u001b[39m.gid = gid\n\u001b[32m     73\u001b[39m \u001b[38;5;28mself\u001b[39m.cloud_service = CloudService(\u001b[38;5;28mself\u001b[39m.kanaries_api_key)\n\u001b[32m---> \u001b[39m\u001b[32m74\u001b[39m \u001b[38;5;28mself\u001b[39m.data_parser = \u001b[38;5;28;43mself\u001b[39;49m\u001b[43m.\u001b[49m\u001b[43m_get_data_parser\u001b[49m\u001b[43m(\u001b[49m\n\u001b[32m     75\u001b[39m \u001b[43m    \u001b[49m\u001b[43mdataset\u001b[49m\u001b[43m=\u001b[49m\u001b[43mdataset\u001b[49m\u001b[43m,\u001b[49m\n\u001b[32m     76\u001b[39m \u001b[43m    \u001b[49m\u001b[43mfield_specs\u001b[49m\u001b[43m=\u001b[49m\u001b[43mfield_specs\u001b[49m\u001b[43m,\u001b[49m\n\u001b[32m     77\u001b[39m \u001b[43m    \u001b[49m\u001b[43mcloud_computation\u001b[49m\u001b[43m=\u001b[49m\u001b[43mcloud_computation\u001b[49m\u001b[43m,\u001b[49m\n\u001b[32m     78\u001b[39m \u001b[43m    \u001b[49m\u001b[43mkanaries_api_key\u001b[49m\u001b[43m=\u001b[49m\u001b[38;5;28;43mself\u001b[39;49m\u001b[43m.\u001b[49m\u001b[43mkanaries_api_key\u001b[49m\u001b[43m,\u001b[49m\n\u001b[32m     79\u001b[39m \u001b[43m    \u001b[49m\u001b[43mcloud_service\u001b[49m\u001b[43m=\u001b[49m\u001b[38;5;28;43mself\u001b[39;49m\u001b[43m.\u001b[49m\u001b[43mcloud_service\u001b[49m\n\u001b[32m     80\u001b[39m \u001b[43m\u001b[49m\u001b[43m)\u001b[49m\n\u001b[32m     82\u001b[39m suggest_kernel_computation = \u001b[38;5;28mself\u001b[39m.data_parser.data_size > JUPYTER_BYTE_LIMIT\n\u001b[32m     83\u001b[39m \u001b[38;5;28mself\u001b[39m.kernel_computation = suggest_kernel_computation \u001b[38;5;28;01mif\u001b[39;00m kernel_computation \u001b[38;5;129;01mis\u001b[39;00m \u001b[38;5;28;01mNone\u001b[39;00m \u001b[38;5;28;01melse\u001b[39;00m kernel_computation\n",
      "\u001b[36mFile \u001b[39m\u001b[32m~\\AppData\\Local\\Programs\\Python\\Python312\\Lib\\site-packages\\pygwalker\\api\\pygwalker.py:128\u001b[39m, in \u001b[36mPygWalker._get_data_parser\u001b[39m\u001b[34m(self, dataset, field_specs, cloud_computation, kanaries_api_key, cloud_service)\u001b[39m\n\u001b[32m    119\u001b[39m \u001b[38;5;28;01mdef\u001b[39;00m\u001b[38;5;250m \u001b[39m\u001b[34m_get_data_parser\u001b[39m(\n\u001b[32m    120\u001b[39m     \u001b[38;5;28mself\u001b[39m,\n\u001b[32m    121\u001b[39m     *,\n\u001b[32m   (...)\u001b[39m\u001b[32m    126\u001b[39m     cloud_service: CloudService\n\u001b[32m    127\u001b[39m ) -> BaseDataParser:\n\u001b[32m--> \u001b[39m\u001b[32m128\u001b[39m     data_parser = \u001b[43mget_parser\u001b[49m\u001b[43m(\u001b[49m\n\u001b[32m    129\u001b[39m \u001b[43m        \u001b[49m\u001b[43mdataset\u001b[49m\u001b[43m,\u001b[49m\n\u001b[32m    130\u001b[39m \u001b[43m        \u001b[49m\u001b[43mfield_specs\u001b[49m\u001b[43m,\u001b[49m\n\u001b[32m    131\u001b[39m \u001b[43m        \u001b[49m\u001b[43mother_params\u001b[49m\u001b[43m=\u001b[49m\u001b[43m{\u001b[49m\u001b[33;43m\"\u001b[39;49m\u001b[33;43mkanaries_api_key\u001b[39;49m\u001b[33;43m\"\u001b[39;49m\u001b[43m:\u001b[49m\u001b[43m \u001b[49m\u001b[43mkanaries_api_key\u001b[49m\u001b[43m}\u001b[49m\n\u001b[32m    132\u001b[39m \u001b[43m    \u001b[49m\u001b[43m)\u001b[49m\n\u001b[32m    133\u001b[39m     \u001b[38;5;28;01mif\u001b[39;00m \u001b[38;5;129;01mnot\u001b[39;00m cloud_computation:\n\u001b[32m    134\u001b[39m         \u001b[38;5;28;01mreturn\u001b[39;00m data_parser\n",
      "\u001b[36mFile \u001b[39m\u001b[32m~\\AppData\\Local\\Programs\\Python\\Python312\\Lib\\site-packages\\pygwalker\\services\\data_parsers.py:76\u001b[39m, in \u001b[36mget_parser\u001b[39m\u001b[34m(dataset, field_specs, infer_string_to_date, infer_number_to_dimension, other_params)\u001b[39m\n\u001b[32m     73\u001b[39m \u001b[38;5;28;01mif\u001b[39;00m other_params \u001b[38;5;129;01mis\u001b[39;00m \u001b[38;5;28;01mNone\u001b[39;00m:\n\u001b[32m     74\u001b[39m     other_params = {}\n\u001b[32m---> \u001b[39m\u001b[32m76\u001b[39m parser_func, _ = \u001b[43m_get_data_parser\u001b[49m\u001b[43m(\u001b[49m\u001b[43mdataset\u001b[49m\u001b[43m)\u001b[49m\n\u001b[32m     77\u001b[39m parser = parser_func(\n\u001b[32m     78\u001b[39m     dataset,\n\u001b[32m     79\u001b[39m     field_specs,\n\u001b[32m   (...)\u001b[39m\u001b[32m     82\u001b[39m     other_params\n\u001b[32m     83\u001b[39m )\n\u001b[32m     84\u001b[39m \u001b[38;5;28;01mreturn\u001b[39;00m parser\n",
      "\u001b[36mFile \u001b[39m\u001b[32m~\\AppData\\Local\\Programs\\Python\\Python312\\Lib\\site-packages\\pygwalker\\services\\data_parsers.py:61\u001b[39m, in \u001b[36m_get_data_parser\u001b[39m\u001b[34m(dataset)\u001b[39m\n\u001b[32m     58\u001b[39m     __classname2method[CloudDatasetParser] = (CloudDatasetParser, \u001b[33m\"\u001b[39m\u001b[33mcloud_dataset\u001b[39m\u001b[33m\"\u001b[39m)\n\u001b[32m     59\u001b[39m     \u001b[38;5;28;01mreturn\u001b[39;00m __classname2method[CloudDatasetParser]\n\u001b[32m---> \u001b[39m\u001b[32m61\u001b[39m \u001b[38;5;28;01mraise\u001b[39;00m \u001b[38;5;167;01mTypeError\u001b[39;00m(\u001b[33mf\u001b[39m\u001b[33m\"\u001b[39m\u001b[33mUnsupported data type: \u001b[39m\u001b[38;5;132;01m{\u001b[39;00m\u001b[38;5;28mtype\u001b[39m(dataset)\u001b[38;5;132;01m}\u001b[39;00m\u001b[33m\"\u001b[39m)\n",
      "\u001b[31mTypeError\u001b[39m: Unsupported data type: <class 'list'>"
     ]
    }
   ],
   "source": []
  },
  {
   "cell_type": "code",
   "execution_count": null,
   "id": "d33e78d6-3df0-4040-afd5-4389876fa0b9",
   "metadata": {},
   "outputs": [],
   "source": []
  }
 ],
 "metadata": {
  "kernelspec": {
   "display_name": "Python 3 (ipykernel)",
   "language": "python",
   "name": "python3"
  },
  "language_info": {
   "codemirror_mode": {
    "name": "ipython",
    "version": 3
   },
   "file_extension": ".py",
   "mimetype": "text/x-python",
   "name": "python",
   "nbconvert_exporter": "python",
   "pygments_lexer": "ipython3",
   "version": "3.12.0"
  }
 },
 "nbformat": 4,
 "nbformat_minor": 5
}
